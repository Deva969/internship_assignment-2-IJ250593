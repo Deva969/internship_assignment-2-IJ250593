{
 "cells": [
  {
   "cell_type": "markdown",
   "id": "619393fc",
   "metadata": {
    "vscode": {
     "languageId": "plaintext"
    }
   },
   "source": [
    "### Why do we analyze survival rates by gender, class, or embarked location? What can this\n",
    "reveal about the dataset?\n",
    "\n",
    " Why analyze survival by gender, class, or embarked location?\n",
    "Reveal Patterns\n",
    "Shows how different groups were treated (e.g., women/children first).\n",
    "\n",
    "Identify Important Features\n",
    "Helps find which variables affect survival the most.\n",
    "\n",
    "Improve Model Accuracy\n",
    "Adds predictive power by including meaningful group info.\n",
    "\n",
    "Understand Data Bias\n",
    "Shows social, economic, or logistic biases (e.g., rich had better access to lifeboats).\n",
    "\n",
    "🔍 What it reveals:\n",
    "Gender: Women had higher survival rates.\n",
    "\n",
    "Class (Pclass): Higher class → better survival (closer to lifeboats).\n",
    "\n",
    "Embarked: Port of boarding may link to crowding or class.\n",
    "\n"
   ]
  },
  {
   "cell_type": "markdown",
   "id": "3ac53c35",
   "metadata": {
    "vscode": {
     "languageId": "plaintext"
    }
   },
   "source": [
    "### What does a pie chart or countplot show us that raw numerical summaries might not?\n",
    "\n",
    " What Pie Chart or Countplot Shows (vs. Raw Numbers):\n",
    "Visual Comparison\n",
    "\n",
    "Makes it easy to compare proportions at a glance.\n",
    "\n",
    "Patterns & Imbalance\n",
    "\n",
    "Quickly shows dominant categories or class imbalance.\n",
    "\n",
    "Better Understanding\n",
    "\n",
    "More intuitive than just reading numbers or tables.\n",
    "\n",
    "Spot Trends\n",
    "\n",
    "Highlights distributions and anomalies clearly."
   ]
  },
  {
   "cell_type": "markdown",
   "id": "d04e709d",
   "metadata": {
    "vscode": {
     "languageId": "plaintext"
    }
   },
   "source": [
    "## How does grouping data by a categorical variable (like Pclass) improve our\n",
    "understanding of survival patterns?\n",
    "\n",
    "Why Grouping by Categorical Variable (e.g., Pclass) Helps:\n",
    "Reveals Subgroup Patterns\n",
    "\n",
    "Shows how survival varies across groups (e.g., 1st class vs. 3rd class).\n",
    "\n",
    "Finds Key Influences\n",
    "\n",
    "Identifies which categories affect outcomes the most.\n",
    "\n",
    "Simplifies Comparison\n",
    "\n",
    "Easier to compare average survival in each group.\n",
    "\n",
    "Supports Better Modeling\n",
    "\n",
    "Helps choose important features for prediction."
   ]
  }
 ],
 "metadata": {
  "language_info": {
   "name": "python"
  }
 },
 "nbformat": 4,
 "nbformat_minor": 5
}
