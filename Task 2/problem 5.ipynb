{
 "cells": [
  {
   "cell_type": "markdown",
   "id": "4d799e82",
   "metadata": {
    "vscode": {
     "languageId": "plaintext"
    }
   },
   "source": [
    "### What is Principal Component Analysis (PCA) and how does it help in visualizing highdimensionaldata?\n",
    "\n",
    "## What is PCA?\n",
    "Principal Component Analysis (PCA) is a dimensionality reduction technique.\n",
    "\n",
    "It transforms original features into new uncorrelated variables called principal components.\n",
    "\n",
    "These components capture the maximum variance in the data in fewer dimensions.\n",
    "\n",
    "## How PCA Helps Visualize High-Dimensional Data:\n",
    "Reduces many features to 2 or 3 principal components.\n",
    "\n",
    "Enables plotting complex data in 2D or 3D.\n",
    "\n",
    "Helps identify patterns, clusters, or outliers easily.\n",
    "\n",
    "Simplifies data without losing much important information.\n",
    "\n"
   ]
  },
  {
   "cell_type": "markdown",
   "id": "c01f40d0",
   "metadata": {
    "vscode": {
     "languageId": "plaintext"
    }
   },
   "source": [
    "### Compare Logistic Regression and Random Forest in terms of interpretability,performance, and use cases.\n",
    "\n",
    "#Logistic Regression\n",
    "Interpretability:\n",
    "\n",
    "Easy to understand and explain.\n",
    "\n",
    "Coefficients show how each feature affects the outcome.\n",
    "\n",
    "Performance:\n",
    "\n",
    "Works well when data is linearly separable.\n",
    "\n",
    "Struggles with complex or nonlinear relationships.\n",
    "\n",
    "Use Cases:\n",
    "\n",
    "Best for problems needing clear explanations (e.g., healthcare, credit scoring).\n",
    "\n",
    "#Random Forest\n",
    "Interpretability:\n",
    "\n",
    "More complex; harder to interpret individual decisions.\n",
    "\n",
    "Feature importance scores provide some insight.\n",
    "\n",
    "Performance:\n",
    "\n",
    "Often more accurate on complex datasets.\n",
    "\n",
    "Handles nonlinear relationships and interactions well.\n",
    "\n",
    "Use Cases:\n",
    "\n",
    "Good for complex classification/regression tasks where accuracy matters more than explainability.\n",
    "\n",
    "\n",
    "\n"
   ]
  },
  {
   "cell_type": "markdown",
   "id": "6dc55b9d",
   "metadata": {
    "vscode": {
     "languageId": "plaintext"
    }
   },
   "source": [
    "###### What is a confusion matrix, and how do we interpret its components (TP, FP, TN, FN)?\n",
    "\n",
    "\n",
    "## What is a Confusion Matrix?\n",
    "A table to evaluate classification model performance.\n",
    "\n",
    "Shows counts of correct and incorrect predictions broken down by class.\n",
    "\n",
    "## Components:\n",
    "Abbreviation\tMeaning\tDescription\n",
    "TP\tTrue Positive\tCorrectly predicted positive\n",
    "FP\tFalse Positive\tIncorrectly predicted positive\n",
    "TN\tTrue Negative\tCorrectly predicted negative\n",
    "FN\tFalse Negative\tIncorrectly predicted negative\n",
    "\n",
    "## Interpretation:\n",
    "TP & TN: Good predictions (correct).\n",
    "\n",
    "FP: Model falsely alarms (Type I error).\n",
    "\n",
    "FN: Model misses positive cases (Type II error).\n"
   ]
  }
 ],
 "metadata": {
  "language_info": {
   "name": "python"
  }
 },
 "nbformat": 4,
 "nbformat_minor": 5
}
