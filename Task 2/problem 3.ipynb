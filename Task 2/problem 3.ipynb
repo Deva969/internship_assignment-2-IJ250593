{
 "cells": [
  {
   "cell_type": "markdown",
   "id": "7633279c",
   "metadata": {
    "vscode": {
     "languageId": "plaintext"
    }
   },
   "source": [
    "## What is the Interquartile Range (IQR), and how is it used to detect outliers?\n",
    "\n",
    " What is IQR?\n",
    "Interquartile Range (IQR) = Q3 - Q1\n",
    "\n",
    "Measures the middle 50% of the data.\n",
    "\n",
    "Q1 = 25th percentile\n",
    "\n",
    "Q3 = 75th percentile\n",
    "\n",
    " How IQR Detects Outliers:\n",
    "Outliers are values:\n",
    "\n",
    "< Q1 - 1.5 × IQR or\n",
    "\n",
    "> Q3 + 1.5 × IQR\n",
    "\n",
    "These are too far from the central range.\n",
    "\n",
    " Why it's useful:\n",
    "Resistant to skew and outliers.\n",
    "\n",
    "Commonly used in box plots for visual detection."
   ]
  },
  {
   "cell_type": "markdown",
   "id": "22c735c3",
   "metadata": {
    "vscode": {
     "languageId": "plaintext"
    }
   },
   "source": [
    "### What impact do outliers have on statistical metrics such as mean, median, and standard\n",
    "deviation?\n",
    "\n",
    " Impact of Outliers on Statistical Metrics:\n",
    "Mean\n",
    "\n",
    "Highly affected by outliers\n",
    "\n",
    "Gets pulled toward extreme values\n",
    "\n",
    "Median\n",
    "\n",
    "Not affected much\n",
    "\n",
    "Remains stable even with outliers\n",
    "\n",
    "Standard Deviation\n",
    "\n",
    "Increases sharply\n",
    "\n",
    "Outliers make data look more spread out\n",
    "\n"
   ]
  },
  {
   "cell_type": "markdown",
   "id": "5ee46841",
   "metadata": {
    "vscode": {
     "languageId": "plaintext"
    }
   },
   "source": [
    "## Why might we want to remove outliers before modeling? Are there cases where\n",
    "keeping them is better?\n",
    "\n",
    "❌ Why Remove Outliers Before Modeling?\n",
    "Outliers can distort model training and reduce accuracy.\n",
    "\n",
    "They may cause overfitting or misleading patterns.\n",
    "\n",
    "Many models assume normal distribution; outliers violate this.\n",
    "\n",
    "Improves robustness and stability of the model.\n",
    "\n",
    "✅ When to Keep Outliers?\n",
    "Outliers represent real, important rare events (e.g., fraud, disease).\n",
    "\n",
    "Removing them would lose critical information.\n",
    "\n",
    "For anomaly detection tasks, outliers are the main focus.\n",
    "\n",
    "When you use robust models that handle outliers well."
   ]
  }
 ],
 "metadata": {
  "language_info": {
   "name": "python"
  }
 },
 "nbformat": 4,
 "nbformat_minor": 5
}
