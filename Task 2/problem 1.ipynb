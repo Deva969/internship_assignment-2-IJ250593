{
 "cells": [
  {
   "cell_type": "markdown",
   "id": "a53b43a6",
   "metadata": {
    "vscode": {
     "languageId": "plaintext"
    }
   },
   "source": [
    "## Why it is important to handle missing values in a dataset before analysis or modeling?\n",
    "\n",
    "1. Maintains Data Integrity\n",
    "Missing values can skew statistical summaries like mean, median, standard deviation, and correlation.\n",
    "\n",
    "Ignoring them might result in biased insights from the data.\n",
    "\n",
    " 2. Prevents Errors in Algorithms\n",
    "Most machine learning algorithms cannot handle missing values directly and will throw errors or crash.\n",
    "\n",
    "Models like Linear Regression, SVM, or KNN expect complete data for all features.\n",
    "\n",
    " 3. Ensures Accurate Model Training\n",
    "Missing values can introduce noise or bias, reducing model accuracy.\n",
    "\n",
    "Models trained on incomplete data may fail to generalize well to unseen data.\n",
    "\n",
    " 4. Improves Visualization and Exploration\n",
    "Visualizations may become incomplete or misleading if missing values are not handled.\n",
    "\n",
    "For example, missing values in a column may affect histogram shapes or scatter plot density.\n",
    "\n",
    " 5. Allows Better Decision-Making\n",
    "In real-world applications (healthcare, finance, etc.), decisions based on incomplete or flawed analysis can be costly or dangerous.\n",
    "\n"
   ]
  },
  {
   "cell_type": "markdown",
   "id": "78be49d9",
   "metadata": {
    "vscode": {
     "languageId": "plaintext"
    }
   },
   "source": [
    "## What are the differences between mean, median, and mode imputation? When should\n",
    "each be used?\n",
    "\n",
    "\n",
    "1) Mean Imputation\n",
    "Replaces missing values with the average.\n",
    "\n",
    "Best for numerical, normally distributed data.\n",
    "\n",
    "Not good if outliers are present.\n",
    "\n",
    "2) Median Imputation\n",
    "Replaces with the middle value.\n",
    "\n",
    "Best for numerical, skewed data or with outliers.\n",
    "\n",
    "More robust than mean.\n",
    "\n",
    "3) Mode Imputation\n",
    "Replaces with the most frequent value.\n",
    "\n",
    "Best for categorical data.\n",
    "\n",
    "Use when one category dominates."
   ]
  },
  {
   "cell_type": "markdown",
   "id": "77ebab4f",
   "metadata": {
    "vscode": {
     "languageId": "plaintext"
    }
   },
   "source": [
    "### Explain the purpose of feature engineering. How can creating FamilySize and IsAlone\n",
    "help in predicting survival?\n",
    "\n",
    "1) Feature Engineering\n",
    "Creates new features to improve model accuracy.\n",
    "\n",
    "Helps models understand patterns better.\n",
    "\n",
    "2) FamilySize\n",
    "FamilySize = SibSp + Parch + 1\n",
    "\n",
    "Shows how many were traveling together.\n",
    "\n",
    "Larger size may indicate higher chance of survival (group support).\n",
    "\n",
    "🚶3) IsAlone\n",
    "IsAlone = 1 if FamilySize == 1 else 0\n",
    "\n",
    "Identifies if the person was alone.\n",
    "\n",
    "Alone passengers had lower survival rates.\n",
    "\n"
   ]
  },
  {
   "cell_type": "code",
   "execution_count": null,
   "id": "8f6f73f1",
   "metadata": {
    "vscode": {
     "languageId": "plaintext"
    }
   },
   "outputs": [],
   "source": []
  }
 ],
 "metadata": {
  "kernelspec": {
   "display_name": "Python 3 (ipykernel)",
   "language": "python",
   "name": "python3"
  },
  "language_info": {
   "codemirror_mode": {
    "name": "ipython",
    "version": 3
   },
   "file_extension": ".py",
   "mimetype": "text/x-python",
   "name": "python",
   "nbconvert_exporter": "python",
   "pygments_lexer": "ipython3",
   "version": "3.12.7"
  }
 },
 "nbformat": 4,
 "nbformat_minor": 5
}
